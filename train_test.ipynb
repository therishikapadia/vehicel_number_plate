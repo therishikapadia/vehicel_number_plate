{
 "cells": [
  {
   "cell_type": "markdown",
   "id": "c66cf53b-fbe8-4685-bcfb-014291846e12",
   "metadata": {
    "jp-MarkdownHeadingCollapsed": true
   },
   "source": [
    "# To train the Object detection Model:"
   ]
  },
  {
   "cell_type": "code",
   "execution_count": 3,
   "id": "3704b216-5a99-4fcd-8385-5acd44a2c47f",
   "metadata": {},
   "outputs": [],
   "source": [
    "from ultralytics import YOLO\n",
    "\n",
    "# # Load a model\n",
    "model = YOLO('yolov8n.pt')  # load a pretrained model (recommended for training)\n",
    "\n",
    "# # Train the model with 2 GPUs\n",
    "results = model.train(data='data.yaml', epochs=200, imgsz=640) \n"
   ]
  },
  {
   "cell_type": "markdown",
   "id": "b174b770-8506-43a4-9371-1bf6d7e36445",
   "metadata": {},
   "source": [
    "# Test Object Detection Model:"
   ]
  },
  {
   "cell_type": "code",
   "execution_count": null,
   "id": "42e1de07-310a-403d-967c-c68c8ecdaba1",
   "metadata": {},
   "outputs": [],
   "source": [
    "from ultralytics import YOLO\n",
    "\n",
    "# Load a pretrained YOLOv8n model\n",
    "model = YOLO('ultralytics/runs/detect/train_model/weights/best.pt')\n",
    "\n",
    "# Run inference on 'bus.jpg' with arguments\n",
    "model.predict('test_vid.mp4', save=True, imgsz=320, conf=0.2)\n"
   ]
  },
  {
   "cell_type": "markdown",
   "id": "a96e4c4b-d2e2-40ce-ac20-cbdaf13ee58b",
   "metadata": {},
   "source": [
    "# Recognize License plate after Detecting  using easy-ocr"
   ]
  },
  {
   "cell_type": "code",
   "execution_count": null,
   "id": "ca93fe22-55e5-4624-853e-f87d2933eb91",
   "metadata": {},
   "outputs": [],
   "source": [
    "#!pip install easyocr"
   ]
  },
  {
   "cell_type": "code",
   "execution_count": null,
   "id": "56065530-e170-468e-9ecf-781e41be3433",
   "metadata": {},
   "outputs": [],
   "source": [
    "!python predict_modified.py model='ultralytics/runs/detect/train_model/weights/best.pt' source='test_vid.mp4' "
   ]
  },
  {
   "cell_type": "code",
   "execution_count": null,
   "id": "59639ad8-646f-4cc1-92c4-031b3421ba91",
   "metadata": {},
   "outputs": [],
   "source": []
  }
 ],
 "metadata": {
  "kernelspec": {
   "display_name": "Python 3 (ipykernel)",
   "language": "python",
   "name": "python3"
  },
  "language_info": {
   "codemirror_mode": {
    "name": "ipython",
    "version": 3
   },
   "file_extension": ".py",
   "mimetype": "text/x-python",
   "name": "python",
   "nbconvert_exporter": "python",
   "pygments_lexer": "ipython3",
   "version": "3.11.5"
  }
 },
 "nbformat": 4,
 "nbformat_minor": 5
}
